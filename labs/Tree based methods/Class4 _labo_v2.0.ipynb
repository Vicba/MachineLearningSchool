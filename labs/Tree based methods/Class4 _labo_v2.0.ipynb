{
 "cells": [
  {
   "cell_type": "markdown",
   "metadata": {},
   "source": [
    "# Supervised learning- tree-based methods + whitening the blackbox"
   ]
  },
  {
   "cell_type": "markdown",
   "metadata": {},
   "source": [
    "# 0. Loading packages and dataset"
   ]
  },
  {
   "cell_type": "code",
   "execution_count": 1,
   "metadata": {},
   "outputs": [],
   "source": [
    "%matplotlib inline\n",
    "import numpy as np\n",
    "import pandas as pd\n",
    "import matplotlib as mpl\n",
    "import matplotlib.pyplot as plt\n",
    "import seaborn as sns\n",
    "\n",
    "\n",
    "df = pd.read_csv('real_estate_cleaned.csv')"
   ]
  },
  {
   "cell_type": "markdown",
   "metadata": {},
   "source": [
    "# 1. Taking a look at the data"
   ]
  },
  {
   "cell_type": "code",
   "execution_count": 2,
   "metadata": {},
   "outputs": [
    {
     "data": {
      "text/html": [
       "<div>\n",
       "<style scoped>\n",
       "    .dataframe tbody tr th:only-of-type {\n",
       "        vertical-align: middle;\n",
       "    }\n",
       "\n",
       "    .dataframe tbody tr th {\n",
       "        vertical-align: top;\n",
       "    }\n",
       "\n",
       "    .dataframe thead th {\n",
       "        text-align: right;\n",
       "    }\n",
       "</style>\n",
       "<table border=\"1\" class=\"dataframe\">\n",
       "  <thead>\n",
       "    <tr style=\"text-align: right;\">\n",
       "      <th></th>\n",
       "      <th>tx_price</th>\n",
       "      <th>beds</th>\n",
       "      <th>baths</th>\n",
       "      <th>sqft</th>\n",
       "      <th>year_built</th>\n",
       "      <th>lot_size</th>\n",
       "      <th>restaurants</th>\n",
       "      <th>groceries</th>\n",
       "      <th>nightlife</th>\n",
       "      <th>cafes</th>\n",
       "      <th>...</th>\n",
       "      <th>exterior_walls_Siding (Alum/Vinyl)</th>\n",
       "      <th>exterior_walls_Wood</th>\n",
       "      <th>roof_Asphalt</th>\n",
       "      <th>roof_Composition</th>\n",
       "      <th>roof_Gravel/rock</th>\n",
       "      <th>roof_Missing</th>\n",
       "      <th>roof_Other</th>\n",
       "      <th>roof_Shake shingle</th>\n",
       "      <th>basement_1.0</th>\n",
       "      <th>basement_Missing</th>\n",
       "    </tr>\n",
       "  </thead>\n",
       "  <tbody>\n",
       "    <tr>\n",
       "      <th>0</th>\n",
       "      <td>12.597611</td>\n",
       "      <td>1</td>\n",
       "      <td>1</td>\n",
       "      <td>6.371612</td>\n",
       "      <td>2013</td>\n",
       "      <td>8.388054</td>\n",
       "      <td>4.682131</td>\n",
       "      <td>2.302585</td>\n",
       "      <td>3.433987</td>\n",
       "      <td>2.995732</td>\n",
       "      <td>...</td>\n",
       "      <td>0</td>\n",
       "      <td>1</td>\n",
       "      <td>0</td>\n",
       "      <td>0</td>\n",
       "      <td>0</td>\n",
       "      <td>1</td>\n",
       "      <td>0</td>\n",
       "      <td>0</td>\n",
       "      <td>0</td>\n",
       "      <td>1</td>\n",
       "    </tr>\n",
       "    <tr>\n",
       "      <th>1</th>\n",
       "      <td>12.285350</td>\n",
       "      <td>1</td>\n",
       "      <td>1</td>\n",
       "      <td>6.418365</td>\n",
       "      <td>1965</td>\n",
       "      <td>8.388054</td>\n",
       "      <td>4.663439</td>\n",
       "      <td>2.772589</td>\n",
       "      <td>1.945910</td>\n",
       "      <td>2.639057</td>\n",
       "      <td>...</td>\n",
       "      <td>0</td>\n",
       "      <td>0</td>\n",
       "      <td>0</td>\n",
       "      <td>1</td>\n",
       "      <td>0</td>\n",
       "      <td>0</td>\n",
       "      <td>0</td>\n",
       "      <td>0</td>\n",
       "      <td>1</td>\n",
       "      <td>0</td>\n",
       "    </tr>\n",
       "    <tr>\n",
       "      <th>2</th>\n",
       "      <td>12.542191</td>\n",
       "      <td>1</td>\n",
       "      <td>1</td>\n",
       "      <td>6.423247</td>\n",
       "      <td>1963</td>\n",
       "      <td>8.388054</td>\n",
       "      <td>5.214936</td>\n",
       "      <td>2.639057</td>\n",
       "      <td>3.465736</td>\n",
       "      <td>3.433987</td>\n",
       "      <td>...</td>\n",
       "      <td>0</td>\n",
       "      <td>1</td>\n",
       "      <td>0</td>\n",
       "      <td>0</td>\n",
       "      <td>0</td>\n",
       "      <td>1</td>\n",
       "      <td>0</td>\n",
       "      <td>0</td>\n",
       "      <td>0</td>\n",
       "      <td>1</td>\n",
       "    </tr>\n",
       "    <tr>\n",
       "      <th>3</th>\n",
       "      <td>12.847666</td>\n",
       "      <td>1</td>\n",
       "      <td>1</td>\n",
       "      <td>6.428105</td>\n",
       "      <td>2000</td>\n",
       "      <td>10.420554</td>\n",
       "      <td>5.293305</td>\n",
       "      <td>2.302585</td>\n",
       "      <td>3.663562</td>\n",
       "      <td>3.258097</td>\n",
       "      <td>...</td>\n",
       "      <td>0</td>\n",
       "      <td>1</td>\n",
       "      <td>0</td>\n",
       "      <td>0</td>\n",
       "      <td>0</td>\n",
       "      <td>1</td>\n",
       "      <td>0</td>\n",
       "      <td>0</td>\n",
       "      <td>0</td>\n",
       "      <td>1</td>\n",
       "    </tr>\n",
       "    <tr>\n",
       "      <th>4</th>\n",
       "      <td>12.736704</td>\n",
       "      <td>1</td>\n",
       "      <td>1</td>\n",
       "      <td>6.453625</td>\n",
       "      <td>1992</td>\n",
       "      <td>8.388054</td>\n",
       "      <td>5.010635</td>\n",
       "      <td>2.079442</td>\n",
       "      <td>3.135494</td>\n",
       "      <td>3.044522</td>\n",
       "      <td>...</td>\n",
       "      <td>0</td>\n",
       "      <td>0</td>\n",
       "      <td>0</td>\n",
       "      <td>0</td>\n",
       "      <td>0</td>\n",
       "      <td>1</td>\n",
       "      <td>0</td>\n",
       "      <td>0</td>\n",
       "      <td>0</td>\n",
       "      <td>1</td>\n",
       "    </tr>\n",
       "  </tbody>\n",
       "</table>\n",
       "<p>5 rows × 39 columns</p>\n",
       "</div>"
      ],
      "text/plain": [
       "    tx_price  beds  baths      sqft  year_built   lot_size  restaurants  \\\n",
       "0  12.597611     1      1  6.371612        2013   8.388054     4.682131   \n",
       "1  12.285350     1      1  6.418365        1965   8.388054     4.663439   \n",
       "2  12.542191     1      1  6.423247        1963   8.388054     5.214936   \n",
       "3  12.847666     1      1  6.428105        2000  10.420554     5.293305   \n",
       "4  12.736704     1      1  6.453625        1992   8.388054     5.010635   \n",
       "\n",
       "   groceries  nightlife     cafes  ...  exterior_walls_Siding (Alum/Vinyl)  \\\n",
       "0   2.302585   3.433987  2.995732  ...                                   0   \n",
       "1   2.772589   1.945910  2.639057  ...                                   0   \n",
       "2   2.639057   3.465736  3.433987  ...                                   0   \n",
       "3   2.302585   3.663562  3.258097  ...                                   0   \n",
       "4   2.079442   3.135494  3.044522  ...                                   0   \n",
       "\n",
       "   exterior_walls_Wood  roof_Asphalt  roof_Composition  roof_Gravel/rock  \\\n",
       "0                    1             0                 0                 0   \n",
       "1                    0             0                 1                 0   \n",
       "2                    1             0                 0                 0   \n",
       "3                    1             0                 0                 0   \n",
       "4                    0             0                 0                 0   \n",
       "\n",
       "   roof_Missing  roof_Other  roof_Shake shingle  basement_1.0  \\\n",
       "0             1           0                   0             0   \n",
       "1             0           0                   0             1   \n",
       "2             1           0                   0             0   \n",
       "3             1           0                   0             0   \n",
       "4             1           0                   0             0   \n",
       "\n",
       "   basement_Missing  \n",
       "0                 1  \n",
       "1                 0  \n",
       "2                 1  \n",
       "3                 1  \n",
       "4                 1  \n",
       "\n",
       "[5 rows x 39 columns]"
      ]
     },
     "execution_count": 2,
     "metadata": {},
     "output_type": "execute_result"
    }
   ],
   "source": [
    "df.head()"
   ]
  },
  {
   "cell_type": "code",
   "execution_count": 3,
   "metadata": {},
   "outputs": [
    {
     "name": "stdout",
     "output_type": "stream",
     "text": [
      "<class 'pandas.core.frame.DataFrame'>\n",
      "RangeIndex: 803 entries, 0 to 802\n",
      "Data columns (total 39 columns):\n",
      "tx_price                              803 non-null float64\n",
      "beds                                  803 non-null int64\n",
      "baths                                 803 non-null int64\n",
      "sqft                                  803 non-null float64\n",
      "year_built                            803 non-null int64\n",
      "lot_size                              803 non-null float64\n",
      "restaurants                           803 non-null float64\n",
      "groceries                             803 non-null float64\n",
      "nightlife                             803 non-null float64\n",
      "cafes                                 803 non-null float64\n",
      "shopping                              803 non-null float64\n",
      "arts_entertainment                    803 non-null float64\n",
      "beauty_spas                           803 non-null float64\n",
      "active_life                           803 non-null float64\n",
      "median_age                            803 non-null float64\n",
      "married                               803 non-null float64\n",
      "college_grad                          803 non-null float64\n",
      "property_tax                          803 non-null float64\n",
      "insurance                             803 non-null float64\n",
      "median_school                         803 non-null float64\n",
      "num_schools                           803 non-null float64\n",
      "tx_year                               803 non-null int64\n",
      "Missing_lot_size                      803 non-null bool\n",
      "school_score                          803 non-null float64\n",
      "tax_per_sqft                          803 non-null float64\n",
      "exterior_walls_Brick                  803 non-null int64\n",
      "exterior_walls_Metal                  803 non-null int64\n",
      "exterior_walls_Missing                803 non-null int64\n",
      "exterior_walls_Other                  803 non-null int64\n",
      "exterior_walls_Siding (Alum/Vinyl)    803 non-null int64\n",
      "exterior_walls_Wood                   803 non-null int64\n",
      "roof_Asphalt                          803 non-null int64\n",
      "roof_Composition                      803 non-null int64\n",
      "roof_Gravel/rock                      803 non-null int64\n",
      "roof_Missing                          803 non-null int64\n",
      "roof_Other                            803 non-null int64\n",
      "roof_Shake shingle                    803 non-null int64\n",
      "basement_1.0                          803 non-null int64\n",
      "basement_Missing                      803 non-null int64\n",
      "dtypes: bool(1), float64(20), int64(18)\n",
      "memory usage: 239.3 KB\n"
     ]
    }
   ],
   "source": [
    "df.info()"
   ]
  },
  {
   "cell_type": "markdown",
   "metadata": {},
   "source": [
    "# 2. Train/test-split"
   ]
  },
  {
   "cell_type": "markdown",
   "metadata": {},
   "source": [
    "0. Shuffle the dataset (randomize)\n",
    "1. Split the predictor columns from the response column\n",
    "2. Perform a train/test split on the dataset\n",
    "3. Standardize the dataset"
   ]
  },
  {
   "cell_type": "code",
   "execution_count": null,
   "metadata": {},
   "outputs": [],
   "source": [
    "\n",
    "\n"
   ]
  },
  {
   "cell_type": "markdown",
   "metadata": {},
   "source": [
    "# 3. Decision trees"
   ]
  },
  {
   "cell_type": "markdown",
   "metadata": {},
   "source": [
    "1. Perform a crossvalidation, using DecisionTreeRegressor, with depth ranging from 1 to 50\n",
    "  \n",
    "2. Plot the depth to the R2\n",
    "    + First do a general plot\n",
    "    + Then zoom in on the highest values \n",
    "    + Which depth leads to the highest R2?\n",
    "\n",
    "    \n",
    "\n",
    "\n"
   ]
  },
  {
   "cell_type": "markdown",
   "metadata": {},
   "source": [
    "1. cross-validation"
   ]
  },
  {
   "cell_type": "code",
   "execution_count": null,
   "metadata": {},
   "outputs": [],
   "source": []
  },
  {
   "cell_type": "markdown",
   "metadata": {},
   "source": [
    "2. plots"
   ]
  },
  {
   "cell_type": "code",
   "execution_count": null,
   "metadata": {},
   "outputs": [],
   "source": []
  },
  {
   "cell_type": "code",
   "execution_count": null,
   "metadata": {},
   "outputs": [],
   "source": []
  },
  {
   "attachments": {},
   "cell_type": "markdown",
   "metadata": {},
   "source": [
    "# 4. Random forest\n",
    "Let's see if we can improve the previous result (the validated R2) by using random forests. \n",
    "\n",
    "1. Perform a  random search cross-validation using  RandomForestRegressor with the following hyperparameters\n",
    "    + criterion:  squared_error, absolute_error\n",
    "    + n_estimators: choose 200 values, ranging from 100 to 500\n",
    "    + max_features: auto, sqrt, log2\n",
    "    + max_depth: let it range from 1 to 15\n",
    "    + min_samples_split: let it range from 2 to 15: why not from 1 to 15?\n",
    "    + min_samples_leaf: let it range from 1 to 15\n",
    "    + max_leaf_nodes: choose 490 values, ranging from 10 to 500\n",
    "    \n",
    "    + use random_state=42\n",
    "    + use 3 folds\n",
    "    + fit 100 random models\n",
    "    \n",
    "2. Print out the training and validated $R^2$ for the best model from the random search \n",
    " \n",
    "3. Print out the parameters of the best model\n",
    " \n",
    "4. Plot the results for all hyperparameters\n",
    "     + First make a general plot for all results and all hyperparameters\n",
    "     + Then make plots for all hyperparameters, but only the models where the R2 is above 0.7, to get a better idea which parameters you will use in the grid search.\n",
    "     \n",
    "5. Perform a grid search. Choose the parameters that you include in this search yourself\n",
    "      + Since this is just a labo and you do not want to wait hours for the results, limit the choices. For an assignment, you should add more options.\n",
    "      + print out the best model\n",
    "    "
   ]
  },
  {
   "cell_type": "markdown",
   "metadata": {},
   "source": [
    "1. Random search"
   ]
  },
  {
   "cell_type": "code",
   "execution_count": null,
   "metadata": {},
   "outputs": [],
   "source": []
  },
  {
   "cell_type": "markdown",
   "metadata": {},
   "source": [
    "2. Print out the training and validated $R^2$ for the best model from the random search \n"
   ]
  },
  {
   "cell_type": "code",
   "execution_count": null,
   "metadata": {},
   "outputs": [],
   "source": []
  },
  {
   "cell_type": "markdown",
   "metadata": {},
   "source": [
    "3. print out the parameters of the best model"
   ]
  },
  {
   "cell_type": "code",
   "execution_count": null,
   "metadata": {},
   "outputs": [],
   "source": []
  },
  {
   "cell_type": "markdown",
   "metadata": {},
   "source": [
    "4. Plot the results  for the hyperparameters"
   ]
  },
  {
   "cell_type": "code",
   "execution_count": null,
   "metadata": {},
   "outputs": [],
   "source": [
    "\n",
    "    "
   ]
  },
  {
   "cell_type": "markdown",
   "metadata": {},
   "source": [
    "5. Grid search"
   ]
  },
  {
   "cell_type": "code",
   "execution_count": null,
   "metadata": {},
   "outputs": [],
   "source": []
  },
  {
   "cell_type": "code",
   "execution_count": null,
   "metadata": {},
   "outputs": [],
   "source": []
  },
  {
   "cell_type": "code",
   "execution_count": null,
   "metadata": {
    "scrolled": true
   },
   "outputs": [],
   "source": []
  },
  {
   "attachments": {},
   "cell_type": "markdown",
   "metadata": {},
   "source": [
    "# 3. Whitening the black box\n",
    "\n",
    "Untill now we have focussed on getting a model that performs as best as possible. But let's shift our attention now. How do we interpret these models?\n",
    "1. Which features are important: Plot the feature importances\n",
    "    + Which five features are most important?\n",
    "2. What is the influence of a certain feature?\n",
    "    + Get the predictions from the random forest.\n",
    "    + Perform one univariate linear regressions per feature on the predicted values!\n",
    "        + Use the standardized features and also standardize the predictions, to make the interpretation easier \n",
    "    + Look at the direction of the effect for the five most important features\n",
    "3. Why is a prediction what it is?\t\n",
    "    + Use lime to get an idea of how the prediction of observation 100 was made"
   ]
  },
  {
   "cell_type": "markdown",
   "metadata": {},
   "source": [
    "1. Plot the feature importances"
   ]
  },
  {
   "cell_type": "code",
   "execution_count": null,
   "metadata": {},
   "outputs": [],
   "source": []
  },
  {
   "cell_type": "code",
   "execution_count": null,
   "metadata": {},
   "outputs": [],
   "source": []
  },
  {
   "cell_type": "markdown",
   "metadata": {},
   "source": [
    "2. What is the influence of a certain feature?\u000b"
   ]
  },
  {
   "cell_type": "markdown",
   "metadata": {},
   "source": [
    "+ get the predictions from the random forest."
   ]
  },
  {
   "cell_type": "code",
   "execution_count": null,
   "metadata": {},
   "outputs": [],
   "source": []
  },
  {
   "cell_type": "markdown",
   "metadata": {},
   "source": [
    "+ Perform one univariate linear regressions per feature on the predicted values!"
   ]
  },
  {
   "cell_type": "code",
   "execution_count": null,
   "metadata": {},
   "outputs": [],
   "source": []
  },
  {
   "cell_type": "markdown",
   "metadata": {},
   "source": [
    "3. Why is a prediction what it is?\n"
   ]
  },
  {
   "cell_type": "code",
   "execution_count": null,
   "metadata": {},
   "outputs": [],
   "source": []
  },
  {
   "cell_type": "code",
   "execution_count": null,
   "metadata": {},
   "outputs": [],
   "source": []
  },
  {
   "attachments": {},
   "cell_type": "markdown",
   "metadata": {},
   "source": [
    "# 5. Gradient boosting\n",
    "Let's try one last algorithm for regression. \n",
    "\n",
    "1. Perform a  random search cross-validation using  GradientBoostingRegressor with the following hyperparameters\n",
    "    + criterion: squared_error\n",
    "    + n_estimators: choose 50 values, ranging from 100 to 500\n",
    "    + max_features: auto, sqrt, log2\n",
    "    + max_depth: let it range from 1 to 15\n",
    "    + min_samples_split: let it range from 2 to 15: why not from 1 to 15?\n",
    "    + min_samples_leaf: let it range from 1 to 15\n",
    "    + max_leaf_nodes: choose 50 values, ranging from 10 to 500\n",
    "    + loss:  huber\n",
    "    + learning_rate = choose 10 values, ranging from 0.1 to 1\n",
    "    \n",
    "    + use random_state=42\n",
    "    + use 3 folds\n",
    "    + fit 100 random models\n",
    "    \n",
    "2. Print out the training and validated $R^2$ for the best model from the random search \n",
    " \n",
    "3. Print out the parameters of the best model\n",
    " \n",
    "4. Plot the results for all hyperparameters\n",
    "     + First make a general plot for all results and all hyperparameters\n",
    "     + Then make plots for all hyperparameters, but only the models where the R2 is above 0.7, to get a better idea which parameters you will use in the grid search.\n",
    "     \n",
    "5. Perform a grid search. Choose the parameters that you include in this search yourself\n",
    "      + Since this is just a labo and you do not want to wait hours for the results, limit the choices. For an assignment, you could add more options.\n",
    "      + print out the best model\n",
    "    "
   ]
  },
  {
   "cell_type": "markdown",
   "metadata": {},
   "source": [
    "1. Perform random search"
   ]
  },
  {
   "cell_type": "code",
   "execution_count": null,
   "metadata": {},
   "outputs": [],
   "source": []
  },
  {
   "cell_type": "markdown",
   "metadata": {},
   "source": [
    "2. Test best model"
   ]
  },
  {
   "cell_type": "code",
   "execution_count": null,
   "metadata": {},
   "outputs": [],
   "source": []
  },
  {
   "cell_type": "markdown",
   "metadata": {},
   "source": [
    "3. print out the parameters of the best model"
   ]
  },
  {
   "cell_type": "code",
   "execution_count": null,
   "metadata": {},
   "outputs": [],
   "source": []
  },
  {
   "cell_type": "markdown",
   "metadata": {},
   "source": [
    "4. Plot the results of the hyperparameters"
   ]
  },
  {
   "cell_type": "code",
   "execution_count": null,
   "metadata": {},
   "outputs": [],
   "source": []
  },
  {
   "cell_type": "code",
   "execution_count": null,
   "metadata": {},
   "outputs": [],
   "source": []
  },
  {
   "cell_type": "code",
   "execution_count": null,
   "metadata": {},
   "outputs": [],
   "source": []
  },
  {
   "cell_type": "markdown",
   "metadata": {},
   "source": [
    "5. Grid search"
   ]
  },
  {
   "cell_type": "code",
   "execution_count": null,
   "metadata": {},
   "outputs": [],
   "source": []
  },
  {
   "cell_type": "markdown",
   "metadata": {},
   "source": [
    "# 6. Final evaluation\n",
    "+ Choose the model with the best validated score from this labo\n",
    "+ Retrain the model on the whole training set\n",
    "+ Evaluate on the test set"
   ]
  },
  {
   "cell_type": "code",
   "execution_count": null,
   "metadata": {},
   "outputs": [],
   "source": []
  }
 ],
 "metadata": {
  "kernelspec": {
   "display_name": "les4_demo_labo-34krT2bv",
   "language": "python",
   "name": "python3"
  },
  "language_info": {
   "codemirror_mode": {
    "name": "ipython",
    "version": 3
   },
   "file_extension": ".py",
   "mimetype": "text/x-python",
   "name": "python",
   "nbconvert_exporter": "python",
   "pygments_lexer": "ipython3",
   "version": "3.10.9"
  },
  "vscode": {
   "interpreter": {
    "hash": "0d062762b7b89e849f01bf34cdfbf74118439c4fe6b357918ea23752fa2d46c6"
   }
  }
 },
 "nbformat": 4,
 "nbformat_minor": 2
}
