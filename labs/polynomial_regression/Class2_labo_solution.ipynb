{
 "cells": [
  {
   "cell_type": "markdown",
   "metadata": {},
   "source": [
    "# Supervised learning- regression"
   ]
  },
  {
   "cell_type": "markdown",
   "metadata": {},
   "source": [
    "A real estate agent currently only has Single-Family housed in his portfolio. He wants to expand his business to apartments, but he doesn't have enough experience to give reliable appraisels. Getting the necessary experience would take a lot of time and he doesn't have any colleagues to fall back on. He knows we are following a machine learning course and has a brilliant idea. He give us a data-set with a lot of information on real estate, including the known selling price (tx_price).  He asks us to build a real-estate pricing model for apartmens.\n",
    "\n",
    "We already cleaned this dataset in the first class (the data hasn't been standardized yet). Perform a simple linear regression and polynomial regression to predict the price for apartments."
   ]
  },
  {
   "cell_type": "markdown",
   "metadata": {},
   "source": [
    "## 0. Loading packages and dataset"
   ]
  },
  {
   "cell_type": "code",
   "execution_count": 1,
   "metadata": {},
   "outputs": [
    {
     "name": "stderr",
     "output_type": "stream",
     "text": [
      "C:\\Users\\Victo\\AppData\\Local\\Temp\\ipykernel_8032\\3221062668.py:7: MatplotlibDeprecationWarning: The seaborn styles shipped by Matplotlib are deprecated since 3.6, as they no longer correspond to the styles shipped by seaborn. However, they will remain available as 'seaborn-v0_8-<style>'. Alternatively, directly use the seaborn API instead.\n",
      "  plt.style.use('seaborn-darkgrid')\n"
     ]
    }
   ],
   "source": [
    "%matplotlib inline\n",
    "import numpy as np\n",
    "import pandas as pd\n",
    "import matplotlib as mpl\n",
    "import matplotlib.pyplot as plt\n",
    "import seaborn as sns\n",
    "plt.style.use('seaborn-darkgrid')\n",
    "\n"
   ]
  },
  {
   "cell_type": "code",
   "execution_count": 2,
   "metadata": {},
   "outputs": [],
   "source": [
    "df = pd.read_csv('real_estate_cleaned.csv')"
   ]
  },
  {
   "cell_type": "markdown",
   "metadata": {},
   "source": [
    "The dataset is already cleaned, but not standardized yet. We will take a quick look at the data to get to know the dataset."
   ]
  },
  {
   "cell_type": "markdown",
   "metadata": {},
   "source": [
    "# 1. Take a look at the data\n",
    "1. Look at the dimensions (number of features and observations)\n",
    "2. Look at the first 5 rows\n",
    "3. Look at the different features and there data types\n",
    "    + What do you notice with regard to the datatypes of the one-hot encoded features?\n",
    "    + Fix this\n",
    "\n",
    "\n"
   ]
  },
  {
   "cell_type": "markdown",
   "metadata": {},
   "source": [
    "1. Dimensions"
   ]
  },
  {
   "cell_type": "code",
   "execution_count": 3,
   "metadata": {},
   "outputs": [
    {
     "data": {
      "text/plain": [
       "(803, 39)"
      ]
     },
     "execution_count": 3,
     "metadata": {},
     "output_type": "execute_result"
    }
   ],
   "source": [
    "df.shape"
   ]
  },
  {
   "cell_type": "markdown",
   "metadata": {},
   "source": [
    "2. First rows"
   ]
  },
  {
   "cell_type": "code",
   "execution_count": 4,
   "metadata": {},
   "outputs": [
    {
     "data": {
      "text/html": [
       "<div>\n",
       "<style scoped>\n",
       "    .dataframe tbody tr th:only-of-type {\n",
       "        vertical-align: middle;\n",
       "    }\n",
       "\n",
       "    .dataframe tbody tr th {\n",
       "        vertical-align: top;\n",
       "    }\n",
       "\n",
       "    .dataframe thead th {\n",
       "        text-align: right;\n",
       "    }\n",
       "</style>\n",
       "<table border=\"1\" class=\"dataframe\">\n",
       "  <thead>\n",
       "    <tr style=\"text-align: right;\">\n",
       "      <th></th>\n",
       "      <th>tx_price</th>\n",
       "      <th>beds</th>\n",
       "      <th>baths</th>\n",
       "      <th>sqft</th>\n",
       "      <th>year_built</th>\n",
       "      <th>lot_size</th>\n",
       "      <th>restaurants</th>\n",
       "      <th>groceries</th>\n",
       "      <th>nightlife</th>\n",
       "      <th>cafes</th>\n",
       "      <th>...</th>\n",
       "      <th>exterior_walls_Siding (Alum/Vinyl)</th>\n",
       "      <th>exterior_walls_Wood</th>\n",
       "      <th>roof_Asphalt</th>\n",
       "      <th>roof_Composition</th>\n",
       "      <th>roof_Gravel/rock</th>\n",
       "      <th>roof_Missing</th>\n",
       "      <th>roof_Other</th>\n",
       "      <th>roof_Shake shingle</th>\n",
       "      <th>basement_1.0</th>\n",
       "      <th>basement_Missing</th>\n",
       "    </tr>\n",
       "  </thead>\n",
       "  <tbody>\n",
       "    <tr>\n",
       "      <th>0</th>\n",
       "      <td>12.597611</td>\n",
       "      <td>1</td>\n",
       "      <td>1</td>\n",
       "      <td>6.371612</td>\n",
       "      <td>2013</td>\n",
       "      <td>8.388054</td>\n",
       "      <td>4.682131</td>\n",
       "      <td>2.302585</td>\n",
       "      <td>3.433987</td>\n",
       "      <td>2.995732</td>\n",
       "      <td>...</td>\n",
       "      <td>0</td>\n",
       "      <td>1</td>\n",
       "      <td>0</td>\n",
       "      <td>0</td>\n",
       "      <td>0</td>\n",
       "      <td>1</td>\n",
       "      <td>0</td>\n",
       "      <td>0</td>\n",
       "      <td>0</td>\n",
       "      <td>1</td>\n",
       "    </tr>\n",
       "    <tr>\n",
       "      <th>1</th>\n",
       "      <td>12.285350</td>\n",
       "      <td>1</td>\n",
       "      <td>1</td>\n",
       "      <td>6.418365</td>\n",
       "      <td>1965</td>\n",
       "      <td>8.388054</td>\n",
       "      <td>4.663439</td>\n",
       "      <td>2.772589</td>\n",
       "      <td>1.945910</td>\n",
       "      <td>2.639057</td>\n",
       "      <td>...</td>\n",
       "      <td>0</td>\n",
       "      <td>0</td>\n",
       "      <td>0</td>\n",
       "      <td>1</td>\n",
       "      <td>0</td>\n",
       "      <td>0</td>\n",
       "      <td>0</td>\n",
       "      <td>0</td>\n",
       "      <td>1</td>\n",
       "      <td>0</td>\n",
       "    </tr>\n",
       "    <tr>\n",
       "      <th>2</th>\n",
       "      <td>12.542191</td>\n",
       "      <td>1</td>\n",
       "      <td>1</td>\n",
       "      <td>6.423247</td>\n",
       "      <td>1963</td>\n",
       "      <td>8.388054</td>\n",
       "      <td>5.214936</td>\n",
       "      <td>2.639057</td>\n",
       "      <td>3.465736</td>\n",
       "      <td>3.433987</td>\n",
       "      <td>...</td>\n",
       "      <td>0</td>\n",
       "      <td>1</td>\n",
       "      <td>0</td>\n",
       "      <td>0</td>\n",
       "      <td>0</td>\n",
       "      <td>1</td>\n",
       "      <td>0</td>\n",
       "      <td>0</td>\n",
       "      <td>0</td>\n",
       "      <td>1</td>\n",
       "    </tr>\n",
       "    <tr>\n",
       "      <th>3</th>\n",
       "      <td>12.847666</td>\n",
       "      <td>1</td>\n",
       "      <td>1</td>\n",
       "      <td>6.428105</td>\n",
       "      <td>2000</td>\n",
       "      <td>10.420554</td>\n",
       "      <td>5.293305</td>\n",
       "      <td>2.302585</td>\n",
       "      <td>3.663562</td>\n",
       "      <td>3.258097</td>\n",
       "      <td>...</td>\n",
       "      <td>0</td>\n",
       "      <td>1</td>\n",
       "      <td>0</td>\n",
       "      <td>0</td>\n",
       "      <td>0</td>\n",
       "      <td>1</td>\n",
       "      <td>0</td>\n",
       "      <td>0</td>\n",
       "      <td>0</td>\n",
       "      <td>1</td>\n",
       "    </tr>\n",
       "    <tr>\n",
       "      <th>4</th>\n",
       "      <td>12.736704</td>\n",
       "      <td>1</td>\n",
       "      <td>1</td>\n",
       "      <td>6.453625</td>\n",
       "      <td>1992</td>\n",
       "      <td>8.388054</td>\n",
       "      <td>5.010635</td>\n",
       "      <td>2.079442</td>\n",
       "      <td>3.135494</td>\n",
       "      <td>3.044522</td>\n",
       "      <td>...</td>\n",
       "      <td>0</td>\n",
       "      <td>0</td>\n",
       "      <td>0</td>\n",
       "      <td>0</td>\n",
       "      <td>0</td>\n",
       "      <td>1</td>\n",
       "      <td>0</td>\n",
       "      <td>0</td>\n",
       "      <td>0</td>\n",
       "      <td>1</td>\n",
       "    </tr>\n",
       "  </tbody>\n",
       "</table>\n",
       "<p>5 rows × 39 columns</p>\n",
       "</div>"
      ],
      "text/plain": [
       "    tx_price  beds  baths      sqft  year_built   lot_size  restaurants  \\\n",
       "0  12.597611     1      1  6.371612        2013   8.388054     4.682131   \n",
       "1  12.285350     1      1  6.418365        1965   8.388054     4.663439   \n",
       "2  12.542191     1      1  6.423247        1963   8.388054     5.214936   \n",
       "3  12.847666     1      1  6.428105        2000  10.420554     5.293305   \n",
       "4  12.736704     1      1  6.453625        1992   8.388054     5.010635   \n",
       "\n",
       "   groceries  nightlife     cafes  ...  exterior_walls_Siding (Alum/Vinyl)  \\\n",
       "0   2.302585   3.433987  2.995732  ...                                   0   \n",
       "1   2.772589   1.945910  2.639057  ...                                   0   \n",
       "2   2.639057   3.465736  3.433987  ...                                   0   \n",
       "3   2.302585   3.663562  3.258097  ...                                   0   \n",
       "4   2.079442   3.135494  3.044522  ...                                   0   \n",
       "\n",
       "   exterior_walls_Wood  roof_Asphalt  roof_Composition  roof_Gravel/rock  \\\n",
       "0                    1             0                 0                 0   \n",
       "1                    0             0                 1                 0   \n",
       "2                    1             0                 0                 0   \n",
       "3                    1             0                 0                 0   \n",
       "4                    0             0                 0                 0   \n",
       "\n",
       "   roof_Missing  roof_Other  roof_Shake shingle  basement_1.0  \\\n",
       "0             1           0                   0             0   \n",
       "1             0           0                   0             1   \n",
       "2             1           0                   0             0   \n",
       "3             1           0                   0             0   \n",
       "4             1           0                   0             0   \n",
       "\n",
       "   basement_Missing  \n",
       "0                 1  \n",
       "1                 0  \n",
       "2                 1  \n",
       "3                 1  \n",
       "4                 1  \n",
       "\n",
       "[5 rows x 39 columns]"
      ]
     },
     "execution_count": 4,
     "metadata": {},
     "output_type": "execute_result"
    }
   ],
   "source": [
    "df.head()"
   ]
  },
  {
   "cell_type": "markdown",
   "metadata": {},
   "source": [
    "3. Data types"
   ]
  },
  {
   "cell_type": "code",
   "execution_count": 5,
   "metadata": {},
   "outputs": [
    {
     "name": "stdout",
     "output_type": "stream",
     "text": [
      "<class 'pandas.core.frame.DataFrame'>\n",
      "RangeIndex: 803 entries, 0 to 802\n",
      "Data columns (total 39 columns):\n",
      " #   Column                              Non-Null Count  Dtype  \n",
      "---  ------                              --------------  -----  \n",
      " 0   tx_price                            803 non-null    float64\n",
      " 1   beds                                803 non-null    int64  \n",
      " 2   baths                               803 non-null    int64  \n",
      " 3   sqft                                803 non-null    float64\n",
      " 4   year_built                          803 non-null    int64  \n",
      " 5   lot_size                            803 non-null    float64\n",
      " 6   restaurants                         803 non-null    float64\n",
      " 7   groceries                           803 non-null    float64\n",
      " 8   nightlife                           803 non-null    float64\n",
      " 9   cafes                               803 non-null    float64\n",
      " 10  shopping                            803 non-null    float64\n",
      " 11  arts_entertainment                  803 non-null    float64\n",
      " 12  beauty_spas                         803 non-null    float64\n",
      " 13  active_life                         803 non-null    float64\n",
      " 14  median_age                          803 non-null    float64\n",
      " 15  married                             803 non-null    float64\n",
      " 16  college_grad                        803 non-null    float64\n",
      " 17  property_tax                        803 non-null    float64\n",
      " 18  insurance                           803 non-null    float64\n",
      " 19  median_school                       803 non-null    float64\n",
      " 20  num_schools                         803 non-null    float64\n",
      " 21  tx_year                             803 non-null    int64  \n",
      " 22  Missing_lot_size                    803 non-null    bool   \n",
      " 23  school_score                        803 non-null    float64\n",
      " 24  tax_per_sqft                        803 non-null    float64\n",
      " 25  exterior_walls_Brick                803 non-null    int64  \n",
      " 26  exterior_walls_Metal                803 non-null    int64  \n",
      " 27  exterior_walls_Missing              803 non-null    int64  \n",
      " 28  exterior_walls_Other                803 non-null    int64  \n",
      " 29  exterior_walls_Siding (Alum/Vinyl)  803 non-null    int64  \n",
      " 30  exterior_walls_Wood                 803 non-null    int64  \n",
      " 31  roof_Asphalt                        803 non-null    int64  \n",
      " 32  roof_Composition                    803 non-null    int64  \n",
      " 33  roof_Gravel/rock                    803 non-null    int64  \n",
      " 34  roof_Missing                        803 non-null    int64  \n",
      " 35  roof_Other                          803 non-null    int64  \n",
      " 36  roof_Shake shingle                  803 non-null    int64  \n",
      " 37  basement_1.0                        803 non-null    int64  \n",
      " 38  basement_Missing                    803 non-null    int64  \n",
      "dtypes: bool(1), float64(20), int64(18)\n",
      "memory usage: 239.3 KB\n"
     ]
    }
   ],
   "source": [
    "df.info()"
   ]
  },
  {
   "cell_type": "markdown",
   "metadata": {},
   "source": [
    "You should have noticed that they are not in the correct data type. Convert them to uint8, using '.astype(np.uint8)'"
   ]
  },
  {
   "cell_type": "code",
   "execution_count": 6,
   "metadata": {},
   "outputs": [
    {
     "name": "stderr",
     "output_type": "stream",
     "text": [
      "C:\\Users\\Victo\\AppData\\Local\\Temp\\ipykernel_8032\\3236984541.py:1: DeprecationWarning: In a future version, `df.iloc[:, i] = newvals` will attempt to set the values inplace instead of always setting a new array. To retain the old behavior, use either `df[df.columns[i]] = newvals` or, if columns are non-unique, `df.isetitem(i, newvals)`\n",
      "  df.iloc[:,25:39] = df.iloc[:,25:39].astype(np.uint8)\n"
     ]
    }
   ],
   "source": [
    "df.iloc[:,25:39] = df.iloc[:,25:39].astype(np.uint8)"
   ]
  },
  {
   "cell_type": "code",
   "execution_count": 7,
   "metadata": {},
   "outputs": [
    {
     "name": "stdout",
     "output_type": "stream",
     "text": [
      "<class 'pandas.core.frame.DataFrame'>\n",
      "RangeIndex: 803 entries, 0 to 802\n",
      "Data columns (total 39 columns):\n",
      " #   Column                              Non-Null Count  Dtype  \n",
      "---  ------                              --------------  -----  \n",
      " 0   tx_price                            803 non-null    float64\n",
      " 1   beds                                803 non-null    int64  \n",
      " 2   baths                               803 non-null    int64  \n",
      " 3   sqft                                803 non-null    float64\n",
      " 4   year_built                          803 non-null    int64  \n",
      " 5   lot_size                            803 non-null    float64\n",
      " 6   restaurants                         803 non-null    float64\n",
      " 7   groceries                           803 non-null    float64\n",
      " 8   nightlife                           803 non-null    float64\n",
      " 9   cafes                               803 non-null    float64\n",
      " 10  shopping                            803 non-null    float64\n",
      " 11  arts_entertainment                  803 non-null    float64\n",
      " 12  beauty_spas                         803 non-null    float64\n",
      " 13  active_life                         803 non-null    float64\n",
      " 14  median_age                          803 non-null    float64\n",
      " 15  married                             803 non-null    float64\n",
      " 16  college_grad                        803 non-null    float64\n",
      " 17  property_tax                        803 non-null    float64\n",
      " 18  insurance                           803 non-null    float64\n",
      " 19  median_school                       803 non-null    float64\n",
      " 20  num_schools                         803 non-null    float64\n",
      " 21  tx_year                             803 non-null    int64  \n",
      " 22  Missing_lot_size                    803 non-null    bool   \n",
      " 23  school_score                        803 non-null    float64\n",
      " 24  tax_per_sqft                        803 non-null    float64\n",
      " 25  exterior_walls_Brick                803 non-null    uint8  \n",
      " 26  exterior_walls_Metal                803 non-null    uint8  \n",
      " 27  exterior_walls_Missing              803 non-null    uint8  \n",
      " 28  exterior_walls_Other                803 non-null    uint8  \n",
      " 29  exterior_walls_Siding (Alum/Vinyl)  803 non-null    uint8  \n",
      " 30  exterior_walls_Wood                 803 non-null    uint8  \n",
      " 31  roof_Asphalt                        803 non-null    uint8  \n",
      " 32  roof_Composition                    803 non-null    uint8  \n",
      " 33  roof_Gravel/rock                    803 non-null    uint8  \n",
      " 34  roof_Missing                        803 non-null    uint8  \n",
      " 35  roof_Other                          803 non-null    uint8  \n",
      " 36  roof_Shake shingle                  803 non-null    uint8  \n",
      " 37  basement_1.0                        803 non-null    uint8  \n",
      " 38  basement_Missing                    803 non-null    uint8  \n",
      "dtypes: bool(1), float64(20), int64(4), uint8(14)\n",
      "memory usage: 162.5 KB\n"
     ]
    }
   ],
   "source": [
    "df.info()"
   ]
  },
  {
   "cell_type": "markdown",
   "metadata": {},
   "source": [
    "# 2 Train/test-split and standardisation\n",
    "\n",
    "1. Shuffle your data\n",
    "\n",
    "2. Make a Train/test - Use random state=123 whenever needed\n",
    "    \n",
    "3. Standardize both datasets  \n",
    "    + Make sure you only standardise the numerical features\n"
   ]
  },
  {
   "cell_type": "markdown",
   "metadata": {},
   "source": [
    "1. Shuffle"
   ]
  },
  {
   "cell_type": "code",
   "execution_count": 8,
   "metadata": {},
   "outputs": [],
   "source": [
    "from random import Random\n",
    "df_shuffle = df.sample(frac=1, random_state=123)\n"
   ]
  },
  {
   "cell_type": "markdown",
   "metadata": {},
   "source": [
    "2. Train/test-split"
   ]
  },
  {
   "cell_type": "code",
   "execution_count": 9,
   "metadata": {},
   "outputs": [
    {
     "name": "stderr",
     "output_type": "stream",
     "text": [
      "C:\\Users\\Victo\\AppData\\Local\\Temp\\ipykernel_8032\\2475780679.py:5: FutureWarning: In a future version of pandas all arguments of DataFrame.drop except for the argument 'labels' will be keyword-only.\n",
      "  X = df_shuffle.drop(['tx_price'],1)\n"
     ]
    }
   ],
   "source": [
    "# Import the function\n",
    "from sklearn.model_selection import train_test_split\n",
    "\n",
    "# Split of feaures and outcomes\n",
    "X = df_shuffle.drop(['tx_price'],1)\n",
    "y = df_shuffle['tx_price']\n",
    "\n",
    "# Perform train/test-split\n",
    "X_train, X_test, y_train, y_test = train_test_split(X, y, test_size=0.2, random_state=123)\n"
   ]
  },
  {
   "cell_type": "markdown",
   "metadata": {},
   "source": [
    "3. Standardise"
   ]
  },
  {
   "cell_type": "code",
   "execution_count": 10,
   "metadata": {},
   "outputs": [],
   "source": [
    "from sklearn.preprocessing import StandardScaler\n",
    "\n",
    "num_feat = X_train.select_dtypes(include=['int64', 'float64']).columns\n",
    "\n",
    "scaler = StandardScaler()\n",
    "scaler.fit(X_train[num_feat])\n",
    "\n",
    "X_train_stan = X_train.copy()\n",
    "X_test_stan = X_test.copy()\n",
    "\n",
    "X_train_stan[num_feat] = scaler.transform(X_train[num_feat])\n",
    "X_test_stan[num_feat] = scaler.transform(X_test[num_feat])\n"
   ]
  },
  {
   "cell_type": "markdown",
   "metadata": {},
   "source": [
    "# 3. Linear regression\n",
    "1. Train a linear regression model, using the standardized data.\n",
    "2. Test the trained model on the train and the test set.\n",
    "    + Predict the price of the appartments\n",
    "    + Calculate the coefficient of determination\n",
    "    + Calculate the Mean Absolute Error (MAE)\n",
    "    + Calculate the Mean Square Error (MSE)\n",
    "    + Would you say this model is overfitted, underfitted or neither?\n",
    "\n"
   ]
  },
  {
   "cell_type": "markdown",
   "metadata": {},
   "source": [
    "1. Train"
   ]
  },
  {
   "cell_type": "code",
   "execution_count": 11,
   "metadata": {},
   "outputs": [
    {
     "data": {
      "text/html": [
       "<style>#sk-container-id-1 {color: black;background-color: white;}#sk-container-id-1 pre{padding: 0;}#sk-container-id-1 div.sk-toggleable {background-color: white;}#sk-container-id-1 label.sk-toggleable__label {cursor: pointer;display: block;width: 100%;margin-bottom: 0;padding: 0.3em;box-sizing: border-box;text-align: center;}#sk-container-id-1 label.sk-toggleable__label-arrow:before {content: \"▸\";float: left;margin-right: 0.25em;color: #696969;}#sk-container-id-1 label.sk-toggleable__label-arrow:hover:before {color: black;}#sk-container-id-1 div.sk-estimator:hover label.sk-toggleable__label-arrow:before {color: black;}#sk-container-id-1 div.sk-toggleable__content {max-height: 0;max-width: 0;overflow: hidden;text-align: left;background-color: #f0f8ff;}#sk-container-id-1 div.sk-toggleable__content pre {margin: 0.2em;color: black;border-radius: 0.25em;background-color: #f0f8ff;}#sk-container-id-1 input.sk-toggleable__control:checked~div.sk-toggleable__content {max-height: 200px;max-width: 100%;overflow: auto;}#sk-container-id-1 input.sk-toggleable__control:checked~label.sk-toggleable__label-arrow:before {content: \"▾\";}#sk-container-id-1 div.sk-estimator input.sk-toggleable__control:checked~label.sk-toggleable__label {background-color: #d4ebff;}#sk-container-id-1 div.sk-label input.sk-toggleable__control:checked~label.sk-toggleable__label {background-color: #d4ebff;}#sk-container-id-1 input.sk-hidden--visually {border: 0;clip: rect(1px 1px 1px 1px);clip: rect(1px, 1px, 1px, 1px);height: 1px;margin: -1px;overflow: hidden;padding: 0;position: absolute;width: 1px;}#sk-container-id-1 div.sk-estimator {font-family: monospace;background-color: #f0f8ff;border: 1px dotted black;border-radius: 0.25em;box-sizing: border-box;margin-bottom: 0.5em;}#sk-container-id-1 div.sk-estimator:hover {background-color: #d4ebff;}#sk-container-id-1 div.sk-parallel-item::after {content: \"\";width: 100%;border-bottom: 1px solid gray;flex-grow: 1;}#sk-container-id-1 div.sk-label:hover label.sk-toggleable__label {background-color: #d4ebff;}#sk-container-id-1 div.sk-serial::before {content: \"\";position: absolute;border-left: 1px solid gray;box-sizing: border-box;top: 0;bottom: 0;left: 50%;z-index: 0;}#sk-container-id-1 div.sk-serial {display: flex;flex-direction: column;align-items: center;background-color: white;padding-right: 0.2em;padding-left: 0.2em;position: relative;}#sk-container-id-1 div.sk-item {position: relative;z-index: 1;}#sk-container-id-1 div.sk-parallel {display: flex;align-items: stretch;justify-content: center;background-color: white;position: relative;}#sk-container-id-1 div.sk-item::before, #sk-container-id-1 div.sk-parallel-item::before {content: \"\";position: absolute;border-left: 1px solid gray;box-sizing: border-box;top: 0;bottom: 0;left: 50%;z-index: -1;}#sk-container-id-1 div.sk-parallel-item {display: flex;flex-direction: column;z-index: 1;position: relative;background-color: white;}#sk-container-id-1 div.sk-parallel-item:first-child::after {align-self: flex-end;width: 50%;}#sk-container-id-1 div.sk-parallel-item:last-child::after {align-self: flex-start;width: 50%;}#sk-container-id-1 div.sk-parallel-item:only-child::after {width: 0;}#sk-container-id-1 div.sk-dashed-wrapped {border: 1px dashed gray;margin: 0 0.4em 0.5em 0.4em;box-sizing: border-box;padding-bottom: 0.4em;background-color: white;}#sk-container-id-1 div.sk-label label {font-family: monospace;font-weight: bold;display: inline-block;line-height: 1.2em;}#sk-container-id-1 div.sk-label-container {text-align: center;}#sk-container-id-1 div.sk-container {/* jupyter's `normalize.less` sets `[hidden] { display: none; }` but bootstrap.min.css set `[hidden] { display: none !important; }` so we also need the `!important` here to be able to override the default hidden behavior on the sphinx rendered scikit-learn.org. See: https://github.com/scikit-learn/scikit-learn/issues/21755 */display: inline-block !important;position: relative;}#sk-container-id-1 div.sk-text-repr-fallback {display: none;}</style><div id=\"sk-container-id-1\" class=\"sk-top-container\"><div class=\"sk-text-repr-fallback\"><pre>LinearRegression()</pre><b>In a Jupyter environment, please rerun this cell to show the HTML representation or trust the notebook. <br />On GitHub, the HTML representation is unable to render, please try loading this page with nbviewer.org.</b></div><div class=\"sk-container\" hidden><div class=\"sk-item\"><div class=\"sk-estimator sk-toggleable\"><input class=\"sk-toggleable__control sk-hidden--visually\" id=\"sk-estimator-id-1\" type=\"checkbox\" checked><label for=\"sk-estimator-id-1\" class=\"sk-toggleable__label sk-toggleable__label-arrow\">LinearRegression</label><div class=\"sk-toggleable__content\"><pre>LinearRegression()</pre></div></div></div></div></div>"
      ],
      "text/plain": [
       "LinearRegression()"
      ]
     },
     "execution_count": 11,
     "metadata": {},
     "output_type": "execute_result"
    }
   ],
   "source": [
    "from sklearn.linear_model import LinearRegression\n",
    "reg= LinearRegression()\n",
    "reg.fit(X_train_stan, y_train)"
   ]
  },
  {
   "cell_type": "markdown",
   "metadata": {},
   "source": [
    "2. Evaluating the model\n",
    "    + make predictions"
   ]
  },
  {
   "cell_type": "code",
   "execution_count": 12,
   "metadata": {},
   "outputs": [],
   "source": [
    "predictions_train = reg.predict(X_train_stan)\n",
    "predictions_test = reg.predict(X_test_stan)"
   ]
  },
  {
   "cell_type": "markdown",
   "metadata": {},
   "source": [
    "   + Coefficient of determination"
   ]
  },
  {
   "cell_type": "code",
   "execution_count": 13,
   "metadata": {
    "scrolled": true
   },
   "outputs": [
    {
     "name": "stdout",
     "output_type": "stream",
     "text": [
      "0.6046576013789593\n",
      "0.5432253727428284\n"
     ]
    }
   ],
   "source": [
    "print(reg.score(X_train_stan, y_train))\n",
    "print(reg.score(X_test_stan, y_test))"
   ]
  },
  {
   "cell_type": "code",
   "execution_count": 14,
   "metadata": {},
   "outputs": [
    {
     "name": "stdout",
     "output_type": "stream",
     "text": [
      "0.6046576013789593\n",
      "0.5432253727428284\n"
     ]
    }
   ],
   "source": [
    "#alternative code\n",
    "from sklearn.metrics import r2_score\n",
    "print(r2_score(y_train, predictions_train))\n",
    "print(r2_score(y_test, predictions_test))\n"
   ]
  },
  {
   "cell_type": "markdown",
   "metadata": {},
   "source": [
    "+ MAE\n"
   ]
  },
  {
   "cell_type": "code",
   "execution_count": 15,
   "metadata": {},
   "outputs": [
    {
     "name": "stdout",
     "output_type": "stream",
     "text": [
      "0.14866924781510601\n",
      "0.16215242761365672\n"
     ]
    }
   ],
   "source": [
    "from sklearn.metrics import mean_absolute_error\n",
    "print(mean_absolute_error(y_train, predictions_train))\n",
    "print(mean_absolute_error(y_test, predictions_test))\n"
   ]
  },
  {
   "cell_type": "markdown",
   "metadata": {},
   "source": [
    "+ MSE"
   ]
  },
  {
   "cell_type": "code",
   "execution_count": 16,
   "metadata": {},
   "outputs": [
    {
     "name": "stdout",
     "output_type": "stream",
     "text": [
      "0.03609999433239675\n",
      "0.04836630892075584\n"
     ]
    }
   ],
   "source": [
    "from sklearn.metrics import mean_squared_error\n",
    "\n",
    "print(mean_squared_error(y_train, predictions_train))\n",
    "print(mean_squared_error(y_test, predictions_test))\n"
   ]
  },
  {
   "cell_type": "markdown",
   "metadata": {},
   "source": [
    "The test R^2 is not a lot lower than the training R^2. This means our model is not a lot overfitted. An R^2 of 54,8% is not very high, so our model might be underfitted. "
   ]
  },
  {
   "cell_type": "markdown",
   "metadata": {},
   "source": [
    "# 2. Polynomial regression\n",
    "## 2.1 Quadratic model\n",
    "\n",
    "We will do a quadratic polynomial regression to see if we can improve the reliability of the model. \n",
    "1. Design polynomial features with degree 2\n",
    "    + Don't forget to also transform the test data\n",
    "    + Check the number of features of the new datasets \n",
    "2. Fit a linear regression to the polynomial features\n",
    "    + Use the 'fit_intercept=False'-argument\n",
    "3. Evaluate the train and test-set, using R^2 \n",
    "    +  Would you say this model is overfitted, underfitted or neither?\n",
    "\n"
   ]
  },
  {
   "cell_type": "markdown",
   "metadata": {},
   "source": [
    "1. Design the features"
   ]
  },
  {
   "cell_type": "code",
   "execution_count": 17,
   "metadata": {},
   "outputs": [],
   "source": [
    "from sklearn.preprocessing import PolynomialFeatures\n",
    "poly = PolynomialFeatures(degree=2)\n",
    "X_train_poly = poly.fit_transform(X_train_stan)\n",
    "X_test_poly = poly.transform(X_test_stan)\n"
   ]
  },
  {
   "cell_type": "code",
   "execution_count": 18,
   "metadata": {},
   "outputs": [
    {
     "data": {
      "text/plain": [
       "(642, 780)"
      ]
     },
     "execution_count": 18,
     "metadata": {},
     "output_type": "execute_result"
    }
   ],
   "source": [
    "#check the number of features\n",
    "X_train_poly.shape"
   ]
  },
  {
   "cell_type": "markdown",
   "metadata": {},
   "source": [
    "2. Fit the linear regression"
   ]
  },
  {
   "cell_type": "code",
   "execution_count": 19,
   "metadata": {},
   "outputs": [
    {
     "data": {
      "text/html": [
       "<style>#sk-container-id-2 {color: black;background-color: white;}#sk-container-id-2 pre{padding: 0;}#sk-container-id-2 div.sk-toggleable {background-color: white;}#sk-container-id-2 label.sk-toggleable__label {cursor: pointer;display: block;width: 100%;margin-bottom: 0;padding: 0.3em;box-sizing: border-box;text-align: center;}#sk-container-id-2 label.sk-toggleable__label-arrow:before {content: \"▸\";float: left;margin-right: 0.25em;color: #696969;}#sk-container-id-2 label.sk-toggleable__label-arrow:hover:before {color: black;}#sk-container-id-2 div.sk-estimator:hover label.sk-toggleable__label-arrow:before {color: black;}#sk-container-id-2 div.sk-toggleable__content {max-height: 0;max-width: 0;overflow: hidden;text-align: left;background-color: #f0f8ff;}#sk-container-id-2 div.sk-toggleable__content pre {margin: 0.2em;color: black;border-radius: 0.25em;background-color: #f0f8ff;}#sk-container-id-2 input.sk-toggleable__control:checked~div.sk-toggleable__content {max-height: 200px;max-width: 100%;overflow: auto;}#sk-container-id-2 input.sk-toggleable__control:checked~label.sk-toggleable__label-arrow:before {content: \"▾\";}#sk-container-id-2 div.sk-estimator input.sk-toggleable__control:checked~label.sk-toggleable__label {background-color: #d4ebff;}#sk-container-id-2 div.sk-label input.sk-toggleable__control:checked~label.sk-toggleable__label {background-color: #d4ebff;}#sk-container-id-2 input.sk-hidden--visually {border: 0;clip: rect(1px 1px 1px 1px);clip: rect(1px, 1px, 1px, 1px);height: 1px;margin: -1px;overflow: hidden;padding: 0;position: absolute;width: 1px;}#sk-container-id-2 div.sk-estimator {font-family: monospace;background-color: #f0f8ff;border: 1px dotted black;border-radius: 0.25em;box-sizing: border-box;margin-bottom: 0.5em;}#sk-container-id-2 div.sk-estimator:hover {background-color: #d4ebff;}#sk-container-id-2 div.sk-parallel-item::after {content: \"\";width: 100%;border-bottom: 1px solid gray;flex-grow: 1;}#sk-container-id-2 div.sk-label:hover label.sk-toggleable__label {background-color: #d4ebff;}#sk-container-id-2 div.sk-serial::before {content: \"\";position: absolute;border-left: 1px solid gray;box-sizing: border-box;top: 0;bottom: 0;left: 50%;z-index: 0;}#sk-container-id-2 div.sk-serial {display: flex;flex-direction: column;align-items: center;background-color: white;padding-right: 0.2em;padding-left: 0.2em;position: relative;}#sk-container-id-2 div.sk-item {position: relative;z-index: 1;}#sk-container-id-2 div.sk-parallel {display: flex;align-items: stretch;justify-content: center;background-color: white;position: relative;}#sk-container-id-2 div.sk-item::before, #sk-container-id-2 div.sk-parallel-item::before {content: \"\";position: absolute;border-left: 1px solid gray;box-sizing: border-box;top: 0;bottom: 0;left: 50%;z-index: -1;}#sk-container-id-2 div.sk-parallel-item {display: flex;flex-direction: column;z-index: 1;position: relative;background-color: white;}#sk-container-id-2 div.sk-parallel-item:first-child::after {align-self: flex-end;width: 50%;}#sk-container-id-2 div.sk-parallel-item:last-child::after {align-self: flex-start;width: 50%;}#sk-container-id-2 div.sk-parallel-item:only-child::after {width: 0;}#sk-container-id-2 div.sk-dashed-wrapped {border: 1px dashed gray;margin: 0 0.4em 0.5em 0.4em;box-sizing: border-box;padding-bottom: 0.4em;background-color: white;}#sk-container-id-2 div.sk-label label {font-family: monospace;font-weight: bold;display: inline-block;line-height: 1.2em;}#sk-container-id-2 div.sk-label-container {text-align: center;}#sk-container-id-2 div.sk-container {/* jupyter's `normalize.less` sets `[hidden] { display: none; }` but bootstrap.min.css set `[hidden] { display: none !important; }` so we also need the `!important` here to be able to override the default hidden behavior on the sphinx rendered scikit-learn.org. See: https://github.com/scikit-learn/scikit-learn/issues/21755 */display: inline-block !important;position: relative;}#sk-container-id-2 div.sk-text-repr-fallback {display: none;}</style><div id=\"sk-container-id-2\" class=\"sk-top-container\"><div class=\"sk-text-repr-fallback\"><pre>LinearRegression(fit_intercept=False)</pre><b>In a Jupyter environment, please rerun this cell to show the HTML representation or trust the notebook. <br />On GitHub, the HTML representation is unable to render, please try loading this page with nbviewer.org.</b></div><div class=\"sk-container\" hidden><div class=\"sk-item\"><div class=\"sk-estimator sk-toggleable\"><input class=\"sk-toggleable__control sk-hidden--visually\" id=\"sk-estimator-id-2\" type=\"checkbox\" checked><label for=\"sk-estimator-id-2\" class=\"sk-toggleable__label sk-toggleable__label-arrow\">LinearRegression</label><div class=\"sk-toggleable__content\"><pre>LinearRegression(fit_intercept=False)</pre></div></div></div></div></div>"
      ],
      "text/plain": [
       "LinearRegression(fit_intercept=False)"
      ]
     },
     "execution_count": 19,
     "metadata": {},
     "output_type": "execute_result"
    }
   ],
   "source": [
    "reg_quad = LinearRegression(fit_intercept=False)\n",
    "reg_quad.fit(X_train_poly, y_train)\n"
   ]
  },
  {
   "cell_type": "code",
   "execution_count": 20,
   "metadata": {},
   "outputs": [
    {
     "name": "stdout",
     "output_type": "stream",
     "text": [
      "0.9911705428351142\n",
      "-689.220731492356\n"
     ]
    }
   ],
   "source": [
    "print(reg_quad.score(X_train_poly, y_train))\n",
    "print(reg_quad.score(X_test_poly, y_test))"
   ]
  },
  {
   "cell_type": "markdown",
   "metadata": {},
   "source": [
    "This model is clearly overfitted. It can almost perfectly predict the prices of the training set, but fails miserably when trying to predict the prices in the test dataset. It clearly has just remembered the prices in the dataset by heart instead of searching for patterns. (Once again, note that we are just using the test set here, so you can learn about underfit and overfit. Do not use it to compare algorithms)"
   ]
  },
  {
   "cell_type": "markdown",
   "metadata": {},
   "source": [
    "## 2.2 Higher order polynomial model"
   ]
  },
  {
   "cell_type": "markdown",
   "metadata": {},
   "source": [
    "1. Do a cross-validation to find the optimal order for the polynomial.\n",
    "    + Use a pipeline that entails two steps: engineering the polynomial features and fitting the regression\n",
    "    + Let the degree of the polynomial range from 1 to 5.\n",
    "    + Ask python to print out the R^2 for each degree\n",
    "    + What do you expect to happen? Will increasing the degree of the polynomial solve the overfitting or just make it worse?\n",
    "    \n",
    "2. Make a plot of the cross-validation results\n",
    "     + Did your expectation come true?\n",
    "    + Overfitted or underfitted?"
   ]
  },
  {
   "cell_type": "markdown",
   "metadata": {},
   "source": [
    "1. Cross-validation"
   ]
  },
  {
   "cell_type": "code",
   "execution_count": 21,
   "metadata": {
    "scrolled": true
   },
   "outputs": [
    {
     "name": "stdout",
     "output_type": "stream",
     "text": [
      "Order 1: avg R^2 = 0.5330591102731054\n",
      "Order 2: avg R^2 = -21.720831323779073\n",
      "Order 3: avg R^2 = -72.38510462094368\n",
      "Order 4: avg R^2 = -349.806337297342\n"
     ]
    }
   ],
   "source": [
    "from sklearn.pipeline import Pipeline\n",
    "\n",
    "from sklearn.model_selection import cross_val_score\n",
    "\n",
    "avg_scores = [None] * 5\n",
    "\n",
    "for i in np.arange(1,6):\n",
    "    \n",
    "    reg_poly = Pipeline([('poly', PolynomialFeatures(degree=i)),\n",
    "                  ('linear', LinearRegression(fit_intercept=False))])\n",
    "    \n",
    "    scores = cross_val_score(reg_poly, X_train_stan, y_train, scoring = 'r2', cv=5)\n",
    "    \n",
    "    avg_scores[i-1] = scores.mean()\n",
    "    \n",
    "    print(\"Order \"+str(i)+\": avg R^2 = \"+str( avg_scores[i-1]))"
   ]
  },
  {
   "cell_type": "markdown",
   "metadata": {},
   "source": [
    "2. plot"
   ]
  },
  {
   "cell_type": "code",
   "execution_count": null,
   "metadata": {},
   "outputs": [
    {
     "data": {
      "image/png": "[encoded data removed]",
      "text/plain": [
       "<Figure size 576x432 with 1 Axes>"
      ]
     },
     "metadata": {},
     "output_type": "display_data"
    }
   ],
   "source": [
    "fig, ax = plt.subplots(figsize=(8, 6))\n",
    "plt.scatter(np.arange(1,6), avg_scores, c='b', label='data')\n",
    "plt.axis('tight')\n",
    "plt.title(\"Cross-validation polynomials\")\n",
    "ax.set_xlabel(\"Order\");\n",
    "ax.set_ylabel(\"CV R^2\");\n",
    "plt.tight_layout()\n",
    "plt.show()"
   ]
  },
  {
   "cell_type": "markdown",
   "metadata": {},
   "source": [
    "We can clearly see that the overfitting gets worse and worse when the order increases. This is because our model becomes more and more complex, meaning it can memorize the prices even better. The downside is that it is no longer able to find the real patterns and can thus no longer predict prices of a new dataset.\n",
    "\n",
    "When the degree is 2, the number of features is already higher than the number of observations, which will only become worse when the degree increases. When this happens, the model will by definition be overfitted. In the next class, we will see how we can solve this.\n",
    "\n"
   ]
  },
  {
   "cell_type": "code",
   "execution_count": null,
   "metadata": {},
   "outputs": [],
   "source": []
  }
 ],
 "metadata": {
  "kernelspec": {
   "display_name": "polynomial_regression-Ojze31Dd",
   "language": "python",
   "name": "python3"
  },
  "language_info": {
   "codemirror_mode": {
    "name": "ipython",
    "version": 3
   },
   "file_extension": ".py",
   "mimetype": "text/x-python",
   "name": "python",
   "nbconvert_exporter": "python",
   "pygments_lexer": "ipython3",
   "version": "3.11.1"
  },
  "vscode": {
   "interpreter": {
    "hash": "c6ca37d50dde86bf4dc33d319df7c889714ea2e261b2ee3efabc2769a97143dc"
   }
  }
 },
 "nbformat": 4,
 "nbformat_minor": 2
}
