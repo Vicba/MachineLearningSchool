{
 "cells": [
  {
   "cell_type": "code",
   "execution_count": 6,
   "metadata": {},
   "outputs": [],
   "source": [
    "import numpy as np"
   ]
  },
  {
   "cell_type": "code",
   "execution_count": 7,
   "metadata": {},
   "outputs": [],
   "source": [
    "data = np.array([\n",
    "    [1, 100, 10],\n",
    "    [2, 300, 15],\n",
    "    [4, 200, 20],\n",
    "    [2, 600, 10],\n",
    "    [5, 100, 30]\n",
    "])\n",
    "# first column = feature A, second column = B, ... C"
   ]
  },
  {
   "cell_type": "code",
   "execution_count": 8,
   "metadata": {},
   "outputs": [
    {
     "name": "stdout",
     "output_type": "stream",
     "text": [
      "Mean:  [  2.8 260.   17. ]\n"
     ]
    }
   ],
   "source": [
    "x = np.array([[4, 500, 40]])\n",
    "m = np.mean(data, axis=0)\n",
    "print(\"Mean: \", m)"
   ]
  },
  {
   "cell_type": "code",
   "execution_count": 10,
   "metadata": {},
   "outputs": [
    {
     "name": "stdout",
     "output_type": "stream",
     "text": [
      "The difference (x-m):  [[  1.2 240.   23. ]]\n"
     ]
    }
   ],
   "source": [
    "print(\"The difference (x-m): \", x-m)"
   ]
  },
  {
   "cell_type": "code",
   "execution_count": 11,
   "metadata": {},
   "outputs": [],
   "source": [
    "data = np.transpose(data)\n",
    "covM = np.cov(data, bias = False)\n",
    "invCovM = np.linalg.inv(covM)"
   ]
  },
  {
   "cell_type": "code",
   "execution_count": 12,
   "metadata": {},
   "outputs": [
    {
     "name": "stdout",
     "output_type": "stream",
     "text": [
      "Covariance matrix of data: \n",
      " [[ 2.7e+00 -1.1e+02  1.3e+01]\n",
      " [-1.1e+02  4.3e+04 -9.0e+02]\n",
      " [ 1.3e+01 -9.0e+02  7.0e+01]]\n",
      "Inv covariance matrix of data: \n",
      " [[ 5.50e+00 -1.00e-02 -1.15e+00]\n",
      " [-1.00e-02  5.00e-05  2.50e-03]\n",
      " [-1.15e+00  2.50e-03  2.60e-01]]\n"
     ]
    }
   ],
   "source": [
    "print(\"Covariance matrix of data: \\n\", covM)\n",
    "print(\"Inverse covariance matrix of data: \\n\", invCovM)"
   ]
  },
  {
   "cell_type": "code",
   "execution_count": 17,
   "metadata": {},
   "outputs": [
    {
     "name": "stdout",
     "output_type": "stream",
     "text": [
      "[[106.7]]\n"
     ]
    }
   ],
   "source": [
    "# calculate the distance (x-m)^T*cov^-1*(x-m)\n",
    "MD2 = np.dot(np.dot((x-m), invCovM), np.transpose(x-m))\n",
    "print(MD2)\n",
    "# be careful that you switch the order! \n",
    "# np.dot(a,b) calculates a^T*b, so a^T^T*b"
   ]
  },
  {
   "cell_type": "code",
   "execution_count": 21,
   "metadata": {},
   "outputs": [
    {
     "name": "stdout",
     "output_type": "stream",
     "text": [
      "The Mahalanobis distance:  [10.32956921]\n"
     ]
    }
   ],
   "source": [
    "MD = np.sqrt(MD2)\n",
    "print(\"The Mahalanobis distance: \", np.reshape(MD,-1))"
   ]
  },
  {
   "cell_type": "markdown",
   "metadata": {},
   "source": [
    "<b>Exercise: </b><br/>\n",
    "Calculate the mahalanobis distance between the following two vectors <br/>\n",
    "<table>\n",
    "<thead>\n",
    "  <tr>\n",
    "    <th>x</th>\n",
    "    <th>y</th>\n",
    "    <th>z</th>\n",
    "  </tr>\n",
    "\n",
    " <tr>\n",
    "    <td>Height</td>\n",
    "    <td>Score</td>\n",
    "    <td>Age</td>\n",
    "  </tr>\n",
    "</thead>\n",
    "<tbody>\n",
    "  <tr>\n",
    "    <td>64.0</td>\n",
    "    <td>580.0</td>\n",
    "    <td>29.0</td>\n",
    "  </tr>\n",
    "  <tr>\n",
    "    <td>66.0</td>\n",
    "    <td>570.0</td>\n",
    "    <td>33.0</td>\n",
    "  </tr>\n",
    "  <tr>\n",
    "    <td>68.0</td>\n",
    "    <td>590.0</td>\n",
    "    <td>37.0</td>\n",
    "  </tr>\n",
    "  <tr>\n",
    "    <td>69.0</td>\n",
    "    <td>660.0</td>\n",
    "    <td>46.0</td>\n",
    "  </tr>\n",
    "  <tr>\n",
    "    <td>73.0</td>\n",
    "    <td>600.0</td>\n",
    "    <td>55.0</td>\n",
    "  </tr>\n",
    "</tbody>\n",
    "</table>\n",
    "and\n",
    "<table>\n",
    "    <tr>\n",
    "        <td>m=68.0</td>\n",
    "        <td>600.0</td>\n",
    "        <td>40.0</td>\n",
    "    </tr>    \n",
    "</table>\n",
    "\n",
    "    "
   ]
  },
  {
   "cell_type": "code",
   "execution_count": 22,
   "metadata": {},
   "outputs": [],
   "source": [
    "data2 = np.array([\n",
    "    [64, 580, 29],\n",
    "    [66, 570, 33],\n",
    "    [68, 590, 37],\n",
    "    [69, 660, 46],\n",
    "    [73, 600, 55]\n",
    "])"
   ]
  },
  {
   "cell_type": "code",
   "execution_count": 23,
   "metadata": {},
   "outputs": [],
   "source": [
    "x2 = np.array([[68, 600, 40]])\n",
    "data2Mean = np.mean(data2, axis=0)"
   ]
  },
  {
   "cell_type": "code",
   "execution_count": 24,
   "metadata": {},
   "outputs": [],
   "source": [
    "data2 = np.transpose(data2)\n",
    "covM2 = np.cov(data2, bias = False)\n",
    "invCovM2 = np.linalg.inv(covM2)"
   ]
  },
  {
   "cell_type": "code",
   "execution_count": 29,
   "metadata": {},
   "outputs": [
    {
     "name": "stdout",
     "output_type": "stream",
     "text": [
      "[[  11.5    50.     34.75]\n",
      " [  50.   1250.    205.  ]\n",
      " [  34.75  205.    110.  ]]\n",
      "[[ 3.68851865e+00  6.27308946e-02 -1.28214415e+00]\n",
      " [ 6.27308946e-02  2.21900278e-03 -2.39526742e-02]\n",
      " [-1.28214415e+00 -2.39526742e-02  4.58770977e-01]]\n"
     ]
    }
   ],
   "source": [
    "print(covM2)\n",
    "print(invCovM2)"
   ]
  },
  {
   "cell_type": "code",
   "execution_count": 30,
   "metadata": {},
   "outputs": [
    {
     "data": {
      "text/plain": [
       "array([[0., 0., 0.]])"
      ]
     },
     "execution_count": 30,
     "metadata": {},
     "output_type": "execute_result"
    }
   ],
   "source": [
    "x2 - data2Mean"
   ]
  },
  {
   "cell_type": "code",
   "execution_count": 27,
   "metadata": {},
   "outputs": [
    {
     "name": "stdout",
     "output_type": "stream",
     "text": [
      "The mahalanobis distance is:  [[0.]]\n"
     ]
    }
   ],
   "source": [
    "MD2 = np.dot(np.dot((x2-data2Mean), invCovM2), np.transpose(x2-data2Mean))\n",
    "MD = np.sqrt(MD2)\n",
    "print(\"The mahalanobis distance is: \", MD2)"
   ]
  },
  {
   "cell_type": "code",
   "execution_count": 33,
   "metadata": {},
   "outputs": [
    {
     "name": "stdout",
     "output_type": "stream",
     "text": [
      "The mahalanobis distance is:  [[5.33454049]]\n"
     ]
    }
   ],
   "source": [
    "x3 = np.array([[66, 640, 44]])\n",
    "MD2 = np.dot(np.dot((x3-data2Mean), invCovM2), np.transpose(x3-data2Mean))\n",
    "MD = np.sqrt(MD2)\n",
    "print(\"The mahalanobis distance is: \", MD)"
   ]
  },
  {
   "cell_type": "code",
   "execution_count": null,
   "metadata": {},
   "outputs": [],
   "source": []
  }
 ],
 "metadata": {
  "kernelspec": {
   "display_name": "Python 3",
   "language": "python",
   "name": "python3"
  },
  "language_info": {
   "codemirror_mode": {
    "name": "ipython",
    "version": 3
   },
   "file_extension": ".py",
   "mimetype": "text/x-python",
   "name": "python",
   "nbconvert_exporter": "python",
   "pygments_lexer": "ipython3",
   "version": "3.7.6"
  }
 },
 "nbformat": 4,
 "nbformat_minor": 4
}
